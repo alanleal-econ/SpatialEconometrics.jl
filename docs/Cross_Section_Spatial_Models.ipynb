{
 "cells": [
  {
   "cell_type": "markdown",
   "metadata": {},
   "source": [
    "**Cross Section Spatial Models in Julia**\n",
    "\n",
    "This is a brief tutoral detailing the use of some functions in the SpatialEconometrics.jl package. \n",
    "\n",
    "Initially, we load some packages required to this exercise and afterwards we install the SpatialEconometrics.jl packages"
   ]
  },
  {
   "cell_type": "markdown",
   "metadata": {},
   "source": [
    "1. Loading and installing required packages"
   ]
  },
  {
   "cell_type": "code",
   "execution_count": 18,
   "metadata": {},
   "outputs": [
    {
     "name": "stderr",
     "output_type": "stream",
     "text": [
      "\u001b[32m\u001b[1m    Updating\u001b[22m\u001b[39m git-repo `https://github.com/alanleal-econ/SpatialEconometrics.jl`\n",
      "\u001b[32m\u001b[1m   Resolving\u001b[22m\u001b[39m package versions...\n",
      "\u001b[32m\u001b[1m  No Changes\u001b[22m\u001b[39m to `~/.julia/environments/v1.8/Project.toml`\n",
      "\u001b[32m\u001b[1m  No Changes\u001b[22m\u001b[39m to `~/.julia/environments/v1.8/Manifest.toml`\n"
     ]
    }
   ],
   "source": [
    "using Pkg,DataFrames,Shapefile,SpatialDependence\n",
    "Pkg.add(url=\"https://github.com/alanleal-econ/SpatialEconometrics.jl\")\n",
    "using SpatialEconometrics"
   ]
  },
  {
   "cell_type": "markdown",
   "metadata": {},
   "source": [
    "2. Reading and detailing data\n",
    "\n",
    "We use data on zika cases in the Brazilian state of Ceará as available in: Amaral, P., Resende de Carvalho, L., Hernandes Rocha, T. A., da Silva, N. C., & Vissoci, J. R. N. (2019). Geospatial modeling of microcephaly and zika virus spread patterns in Brazil. PloS one, 14(9), e0222668."
   ]
  },
  {
   "cell_type": "code",
   "execution_count": 19,
   "metadata": {},
   "outputs": [
    {
     "data": {
      "text/plain": [
       "184×6 Matrix{Union{Missing, Float64}}:\n",
       " 1.0  4.55599  4.02102  0.958  0.835  0.538\n",
       " 1.0  4.83451  4.18577  0.941  0.644  0.728\n",
       " 1.0  5.49065  4.76005  0.971  0.973  0.535\n",
       " 1.0  5.31389  4.70893  0.975  0.885  0.687\n",
       " 1.0  4.73446  4.2096   0.99   0.96   0.68\n",
       " 1.0  4.57723  4.03226  1.0    0.932  0.798\n",
       " 1.0  4.3909   3.83607  0.968  0.538  0.644\n",
       " 1.0  4.88703  4.21376  0.972  0.905  0.573\n",
       " 1.0  5.26288  4.59364  0.933  0.877  0.524\n",
       " 1.0  4.45245  3.8441   0.956  0.926  0.752\n",
       " ⋮                                    ⋮\n",
       " 1.0  4.71922  4.1586   0.95   0.859  0.564\n",
       " 1.0  5.29099  4.50225  0.981  0.788  0.607\n",
       " 1.0  4.46604  3.87766  0.976  0.837  0.625\n",
       " 1.0  4.85375  4.2742   0.933  0.8    0.589\n",
       " 1.0  5.14761  4.2959   0.943  0.906  0.612\n",
       " 1.0  4.68884  4.11002  0.978  0.938  0.659\n",
       " 1.0  4.99156  4.24534  0.98   0.917  0.586\n",
       " 1.0  5.20945  4.58472  0.956  0.823  0.679\n",
       " 1.0  5.3319   4.74001  0.973  0.77   0.557"
      ]
     },
     "metadata": {},
     "output_type": "display_data"
    }
   ],
   "source": [
    "W=polyneigh(ceara_zika.geometry)\n",
    "W=Matrix(W) # transforma a matriz espacial em uma matrix usual\n",
    "n=184 # número de observações\n",
    "y = ceara_zika.inc_zik_3q # jeito de selecionar uma variável do shapefile ceara_zika\n",
    "df = DataFrame(\n",
    "    constant=ones(n),\n",
    "    ln_gdp = ceara_zika.ln_gdp,\n",
    "    ln_pop=ceara_zika.ln_pop,\n",
    "    mobility = ceara_zika.mobility,\n",
    "    environ = ceara_zika.environ,\n",
    "    sanitation = ceara_zika.sanitation\n",
    ")\n",
    "X = Matrix(select(df, [:constant,:ln_gdp,:ln_pop,:mobility, :environ, :sanitation]))\n",
    "X"
   ]
  },
  {
   "cell_type": "markdown",
   "metadata": {},
   "source": [
    "3. SAR Model\n",
    "\n",
    "Initially, we run a simple SAR model (spatially lagged independent variable)"
   ]
  },
  {
   "cell_type": "code",
   "execution_count": 20,
   "metadata": {},
   "outputs": [
    {
     "data": {
      "text/plain": [
       "(coefs = [16.627062538573206 39.88016540681598 … 95.33194035633201 0.6772408888156662; -2.599588111262541 6.923082061885459 … 11.063352406779705 0.7077439429713919; … ; 5.229096817467874 11.160015891891737 … 27.253771947462845 0.6399665543158717; 3.2474414030528043 10.118056359099391 … 23.215773564483893 0.748625237236324], sigma2 = 176.21419089914, rho = [0.23790174741605125, 0.11315758630908089], nobs = 184, dof = 178, ll = -737.9017538201629)"
      ]
     },
     "metadata": {},
     "output_type": "display_data"
    }
   ],
   "source": [
    "sar_model=sar(X,y,W)"
   ]
  },
  {
   "cell_type": "markdown",
   "metadata": {},
   "source": [
    "Next, we present these results in a formatted table"
   ]
  },
  {
   "cell_type": "code",
   "execution_count": 21,
   "metadata": {},
   "outputs": [
    {
     "name": "stdout",
     "output_type": "stream",
     "text": [
      ".------------.---------.---------.----------.----------.-----------.\n",
      "Maximum Likelihood Estimation of SAR Model\n",
      ".------------.---------.---------.----------.----------.-----------.\n",
      "Log-Likelihood: -737.902\n",
      "Number of observations: 184\n",
      "σ2: 176.214\n",
      ".------------.---------.---------.----------.----------.----------.\n",
      "|\u001b[1m  Variable  \u001b[0m|\u001b[1m    β    \u001b[0m|\u001b[1m Std Dev \u001b[0m|\u001b[1m Lower CI \u001b[0m|\u001b[1m Upper CI \u001b[0m|\u001b[1m p-value  \u001b[0m|\n",
      ":------------+---------+---------+----------+----------+----------:\n",
      "|  constant  | 16.627  | 39.880  | -62.078  |  95.332  | 0.677241 |\n",
      "|   ln_gdp   | -2.600  |  6.923  | -16.263  |  11.063  | 0.707744 |\n",
      "|   ln_pop   |  1.228  |  8.970  | -16.475  |  18.931  | 0.89124  |\n",
      "|  mobility  | -14.590 | 35.789  | -85.221  |  56.041  | 0.684016 |\n",
      "|  environ   |  5.229  | 11.160  | -16.796  |  27.254  | 0.639967 |\n",
      "| sanitation |  3.247  | 10.118  | -16.721  |  23.216  | 0.748625 |\n",
      "'------------'---------'---------'----------'----------'----------'\n",
      "ρ: 0.238, Standard Deviation: 0.113\n"
     ]
    }
   ],
   "source": [
    "names_col=names(df)\n",
    "sar_summary(sar_model,names_col)"
   ]
  },
  {
   "cell_type": "markdown",
   "metadata": {},
   "source": [
    "Finally, we calculate their direct, indirect and total effects"
   ]
  },
  {
   "cell_type": "code",
   "execution_count": 22,
   "metadata": {},
   "outputs": [
    {
     "data": {
      "text/plain": [
       "5×3 Matrix{Float64}:\n",
       "  -2.62955  -0.781538   -3.41109\n",
       "   1.24248   0.369282    1.61176\n",
       " -14.7581   -4.3863    -19.1444\n",
       "   5.28938   1.57207     6.86145\n",
       "   3.28488   0.976308    4.26118"
      ]
     },
     "metadata": {},
     "output_type": "display_data"
    }
   ],
   "source": [
    "beta_complet=vcat(sar_model.sigma2,sar_model.rho[1],sar_model.coefs[:,1])\n",
    "sar_effects=effects_sar(y,X,W,beta_complet)"
   ]
  },
  {
   "cell_type": "markdown",
   "metadata": {},
   "source": [
    "Now, we print these effects in a proper table"
   ]
  },
  {
   "cell_type": "code",
   "execution_count": 23,
   "metadata": {},
   "outputs": [
    {
     "name": "stdout",
     "output_type": "stream",
     "text": [
      ".------------.----------------.------------------.---------------.\n",
      "|\u001b[1m  Variable  \u001b[0m|\u001b[1m Direct Effects \u001b[0m|\u001b[1m Indirect Effects \u001b[0m|\u001b[1m Total Effects \u001b[0m|\n",
      ":------------+----------------+------------------+---------------:\n",
      "|   ln_gdp   |     -2.630     |      -0.782      |    -3.411     |\n",
      "|   ln_pop   |     1.242      |      0.369       |     1.612     |\n",
      "|  mobility  |    -14.758     |      -4.386      |    -19.144    |\n",
      "|  environ   |     5.289      |      1.572       |     6.861     |\n",
      "| sanitation |     3.285      |      0.976       |     4.261     |\n",
      "'------------'----------------'------------------'---------------'\n"
     ]
    }
   ],
   "source": [
    "effects_summary(sar_effects,names_col[2:end])"
   ]
  },
  {
   "cell_type": "markdown",
   "metadata": {},
   "source": [
    "4. SEM Model\n",
    "\n",
    "Now, we run a simple SEM model (spatially lagged error)"
   ]
  },
  {
   "cell_type": "code",
   "execution_count": 24,
   "metadata": {},
   "outputs": [
    {
     "data": {
      "text/plain": [
       "(coefs = [16.627065894473088 39.88016536263677 … 95.3319436250427 0.6772408270409711; -2.5995886217459963 6.923082054339273 … 11.063351881403591 0.7077438879374547; … ; 5.22909751107866 11.160015879537013 … 27.25377261669116 0.6399665095992313; 3.247440152045304 10.118056348367233 … 23.21577229229611 0.7486253305186223], sigma2 = 176.21419051045956, lambda = [0.23790174680532192 0.11315758627772404], nobs = 184, dof = 178, ll = -737.9017538201629)"
      ]
     },
     "metadata": {},
     "output_type": "display_data"
    }
   ],
   "source": [
    "sem_model=sem(X,y,W)"
   ]
  },
  {
   "cell_type": "markdown",
   "metadata": {},
   "source": [
    "Now, we print these results in a formatted table"
   ]
  },
  {
   "cell_type": "code",
   "execution_count": 25,
   "metadata": {},
   "outputs": [
    {
     "name": "stdout",
     "output_type": "stream",
     "text": [
      ".------------.---------.---------.----------.----------.-----------.\n",
      "Maximum Likelihood Estimation of SEM Model\n",
      ".------------.---------.---------.----------.----------.-----------.\n",
      "Log-Likelihood: -737.902\n",
      "Number of observations: 184\n",
      "σ2: 176.214\n",
      ".------------.---------.---------.----------.----------.----------.\n",
      "|\u001b[1m  Variable  \u001b[0m|\u001b[1m    β    \u001b[0m|\u001b[1m Std Dev \u001b[0m|\u001b[1m Lower CI \u001b[0m|\u001b[1m Upper CI \u001b[0m|\u001b[1m p-value  \u001b[0m|\n",
      ":------------+---------+---------+----------+----------+----------:\n",
      "|  constant  | 16.627  | 39.880  | -62.078  |  95.332  | 0.677241 |\n",
      "|   ln_gdp   | -2.600  |  6.923  | -16.263  |  11.063  | 0.707744 |\n",
      "|   ln_pop   |  1.228  |  8.970  | -16.475  |  18.931  | 0.89124  |\n",
      "|  mobility  | -14.590 | 35.789  | -85.221  |  56.041  | 0.684015 |\n",
      "|  environ   |  5.229  | 11.160  | -16.796  |  27.254  | 0.639967 |\n",
      "| sanitation |  3.247  | 10.118  | -16.721  |  23.216  | 0.748625 |\n",
      "'------------'---------'---------'----------'----------'----------'\n",
      "λ: 0.238, Standard Deviation: 0.113\n"
     ]
    }
   ],
   "source": [
    "names_col=names(df)\n",
    "sem_summary(sem_model,names_col)"
   ]
  },
  {
   "cell_type": "markdown",
   "metadata": {},
   "source": [
    "5. SARAR (or SAC) model\n",
    "\n",
    "Now, we run a simple SEM model (spatially lagged error and independent variable)"
   ]
  },
  {
   "cell_type": "code",
   "execution_count": 26,
   "metadata": {},
   "outputs": [
    {
     "data": {
      "text/plain": [
       "(coefs = [15.360436670683146 40.52477342713172 … 95.34063452434818 0.705118998004481; -2.890154467951806 7.13547317056372 … 11.19250430341391 0.6859425500289715; … ; 5.9644537947777305 11.522584631271286 … 28.7055704169788 0.6053690504944904; 4.277448559999447 10.677467064749516 … 25.35063062109659 0.6891994799473498], sigma2 = 176.6763776861746, rho = [0.08497190564358824 0.32230592861399615], lambda = [0.17106463701354635 0.3114059827534564], nobs = 184, dof = 178, ll = -737.7635471482148)"
      ]
     },
     "metadata": {},
     "output_type": "display_data"
    }
   ],
   "source": [
    "M=W\n",
    "sarar_model=sarar(X,y,W,M)"
   ]
  },
  {
   "cell_type": "markdown",
   "metadata": {},
   "source": [
    "Now, we print these results in a formatted table"
   ]
  },
  {
   "cell_type": "code",
   "execution_count": 27,
   "metadata": {},
   "outputs": [
    {
     "name": "stdout",
     "output_type": "stream",
     "text": [
      ".------------.---------.---------.----------.----------.-----------.\n",
      "Maximum Likelihood Estimation of SAC Model\n",
      ".------------.---------.---------.----------.----------.-----------.\n",
      "Log-Likelihood: -737.764\n",
      "Number of observations: 184\n",
      "σ2: 176.676\n",
      ".------------.---------.---------.----------.----------.----------.\n",
      "|\u001b[1m  Variable  \u001b[0m|\u001b[1m    β    \u001b[0m|\u001b[1m Std Dev \u001b[0m|\u001b[1m Lower CI \u001b[0m|\u001b[1m Upper CI \u001b[0m|\u001b[1m p-value  \u001b[0m|\n",
      ":------------+---------+---------+----------+----------+----------:\n",
      "|  constant  | 15.360  | 40.525  | -64.620  |  95.341  | 0.705119 |\n",
      "|   ln_gdp   | -2.890  |  7.135  | -16.973  |  11.193  | 0.685943 |\n",
      "|   ln_pop   |  1.486  |  9.109  | -16.491  |  19.463  | 0.870596 |\n",
      "|  mobility  | -13.968 | 37.093  | -87.175  |  59.240  | 0.706961 |\n",
      "|  environ   |  5.964  | 11.523  | -16.777  |  28.706  | 0.605369 |\n",
      "| sanitation |  4.277  | 10.677  | -16.796  |  25.351  | 0.689199 |\n",
      "'------------'---------'---------'----------'----------'----------'\n",
      "λ: 0.085, Standard Deviation: 0.322\n",
      "λ: 0.171, Standard Deviation: 0.311\n"
     ]
    }
   ],
   "source": [
    "sarar_summary(sarar_model,names_col)"
   ]
  },
  {
   "cell_type": "markdown",
   "metadata": {},
   "source": [
    "Now, we estimate the direct, indirect and total effects of this estimator"
   ]
  },
  {
   "cell_type": "code",
   "execution_count": 28,
   "metadata": {},
   "outputs": [
    {
     "data": {
      "text/plain": [
       "5×3 Matrix{Float64}:\n",
       "  -2.89411  -0.264432   -3.15854\n",
       "   1.48802   0.135959    1.62398\n",
       " -13.9866   -1.27794   -15.2646\n",
       "   5.97262   0.545712    6.51833\n",
       "   4.2833    0.391361    4.67466"
      ]
     },
     "metadata": {},
     "output_type": "display_data"
    }
   ],
   "source": [
    "beta_complet=vcat(sarar_model.sigma2,sarar_model.rho[1],sarar_model.lambda[1],sarar_model.coefs[:,1])\n",
    "SARAR_effects=effects_sarar(y,X,W,M,beta_complet)"
   ]
  },
  {
   "cell_type": "markdown",
   "metadata": {},
   "source": [
    "Finally, we present theses results in a formatted table"
   ]
  },
  {
   "cell_type": "code",
   "execution_count": 29,
   "metadata": {},
   "outputs": [
    {
     "name": "stdout",
     "output_type": "stream",
     "text": [
      ".------------.----------------.------------------.---------------.\n",
      "|\u001b[1m  Variable  \u001b[0m|\u001b[1m Direct Effects \u001b[0m|\u001b[1m Indirect Effects \u001b[0m|\u001b[1m Total Effects \u001b[0m|\n",
      ":------------+----------------+------------------+---------------:\n",
      "|   ln_gdp   |     -2.894     |      -0.264      |    -3.159     |\n",
      "|   ln_pop   |     1.488      |      0.136       |     1.624     |\n",
      "|  mobility  |    -13.987     |      -1.278      |    -15.265    |\n",
      "|  environ   |     5.973      |      0.546       |     6.518     |\n",
      "| sanitation |     4.283      |      0.391       |     4.675     |\n",
      "'------------'----------------'------------------'---------------'\n"
     ]
    }
   ],
   "source": [
    "effects_summary(SARAR_effects,names_col[2:end])"
   ]
  }
 ],
 "metadata": {
  "kernelspec": {
   "display_name": "Julia 1.8.5",
   "language": "julia",
   "name": "julia-1.8"
  },
  "language_info": {
   "file_extension": ".jl",
   "mimetype": "application/julia",
   "name": "julia",
   "version": "1.8.5"
  }
 },
 "nbformat": 4,
 "nbformat_minor": 2
}
