{
 "cells": [
  {
   "cell_type": "markdown",
   "metadata": {},
   "source": [
    "**Cross Section Spatial Models in Julia**\n",
    "\n",
    "This is a brief tutoral detailing the use of some functions in the SpatialEconometrics.jl package. \n",
    "Questions should be directed to the e-mail: prof@alanleal-econ.com\n",
    "\n",
    "Initially, we load some packages required to this exercise and afterwards we install the SpatialEconometrics.jl packages"
   ]
  },
  {
   "cell_type": "markdown",
   "metadata": {},
   "source": [
    "1. Loading and installing required packages"
   ]
  },
  {
   "cell_type": "code",
   "execution_count": 1,
   "metadata": {},
   "outputs": [
    {
     "name": "stderr",
     "output_type": "stream",
     "text": [
      "\u001b[32m\u001b[1m    Updating\u001b[22m\u001b[39m git-repo `https://github.com/alanleal-econ/SpatialEconometrics.jl`\n",
      "\u001b[32m\u001b[1m    Updating\u001b[22m\u001b[39m registry at `~/.julia/registries/General.toml`\n"
     ]
    },
    {
     "ename": "Pkg.Types.PkgError",
     "evalue": "package `SpatialEconometrics [ce709044]` has same name or UUID as the active project",
     "output_type": "error",
     "traceback": [
      "package `SpatialEconometrics [ce709044]` has same name or UUID as the active project\n",
      "\n",
      "Stacktrace:\n",
      " [1] pkgerror(msg::String)\n",
      "   @ Pkg.Types /Applications/Julia-1.8.app/Contents/Resources/julia/share/julia/stdlib/v1.8/Pkg/src/Types.jl:67\n",
      " [2] add(ctx::Pkg.Types.Context, pkgs::Vector{Pkg.Types.PackageSpec}; preserve::Pkg.Types.PreserveLevel, platform::Base.BinaryPlatforms.Platform, kwargs::Base.Pairs{Symbol, VSCodeServer.IJuliaCore.IJuliaStdio{Base.PipeEndpoint, typeof(VSCodeServer.io_send_callback)}, Tuple{Symbol}, NamedTuple{(:io,), Tuple{VSCodeServer.IJuliaCore.IJuliaStdio{Base.PipeEndpoint, typeof(VSCodeServer.io_send_callback)}}}})\n",
      "   @ Pkg.API /Applications/Julia-1.8.app/Contents/Resources/julia/share/julia/stdlib/v1.8/Pkg/src/API.jl:268\n",
      " [3] add(pkgs::Vector{Pkg.Types.PackageSpec}; io::VSCodeServer.IJuliaCore.IJuliaStdio{Base.PipeEndpoint, typeof(VSCodeServer.io_send_callback)}, kwargs::Base.Pairs{Symbol, Union{}, Tuple{}, NamedTuple{(), Tuple{}}})\n",
      "   @ Pkg.API /Applications/Julia-1.8.app/Contents/Resources/julia/share/julia/stdlib/v1.8/Pkg/src/API.jl:156\n",
      " [4] add(pkgs::Vector{Pkg.Types.PackageSpec})\n",
      "   @ Pkg.API /Applications/Julia-1.8.app/Contents/Resources/julia/share/julia/stdlib/v1.8/Pkg/src/API.jl:145\n",
      " [5] add(; name::Nothing, uuid::Nothing, version::Nothing, url::String, rev::Nothing, path::Nothing, mode::Pkg.Types.PackageMode, subdir::Nothing, kwargs::Base.Pairs{Symbol, Union{}, Tuple{}, NamedTuple{(), Tuple{}}})\n",
      "   @ Pkg.API ./boot.jl:0\n",
      " [6] top-level scope\n",
      "   @ ~/Library/Mobile Documents/com~apple~CloudDocs/Github/OCDE/SpatialEconometrics.jl/docs/jl_notebook_cell_df34fa98e69747e1a8f8a730347b8e2f_W2sZmlsZQ==.jl:2"
     ]
    }
   ],
   "source": [
    "using Pkg,DataFrames,Shapefile\n",
    "Pkg.add(url=\"https://github.com/alanleal-econ/SpatialEconometrics.jl\")\n",
    "using SpatialEconometrics"
   ]
  },
  {
   "cell_type": "markdown",
   "metadata": {},
   "source": [
    "2. Reading and detailing data\n",
    "\n",
    "We use data on zika cases in the Brazilian state of Ceará as available in: Amaral, P., Resende de Carvalho, L., Hernandes Rocha, T. A., da Silva, N. C., & Vissoci, J. R. N. (2019). Geospatial modeling of microcephaly and zika virus spread patterns in Brazil. PloS one, 14(9), e0222668."
   ]
  },
  {
   "cell_type": "markdown",
   "metadata": {},
   "source": [
    "ceara_zika=Shapefile.Table(\"/Users/alanleal/Library/CloudStorage/OneDrive-Personal/Aulas/Julia 101 uma abordagem regional/Shapefiles/ceara/ceara.shp\")\n",
    "W=polyneigh(ceara_zika.geometry)\n",
    "W=Matrix(W) # transforma a matriz espacial em uma matrix usual\n",
    "n=184 # número de observações\n",
    "y = ceara_zika.inc_zik_3q # jeito de selecionar uma variável do shapefile ceara_zika\n",
    "df = DataFrame(\n",
    "    constant=ones(n),\n",
    "    ln_gdp = ceara_zika.ln_gdp,\n",
    "    ln_pop=ceara_zika.ln_pop,\n",
    "    mobility = ceara_zika.mobility,\n",
    "    environ = ceara_zika.environ,\n",
    "    sanitation = ceara_zika.sanitation\n",
    ")\n",
    "X = Matrix(select(df, [:constant,:ln_gdp,:ln_pop,:mobility, :environ, :sanitation]))\n",
    "X"
   ]
  }
 ],
 "metadata": {
  "kernelspec": {
   "display_name": "Julia 1.8.5",
   "language": "julia",
   "name": "julia-1.8"
  },
  "language_info": {
   "file_extension": ".jl",
   "mimetype": "application/julia",
   "name": "julia",
   "version": "1.8.5"
  }
 },
 "nbformat": 4,
 "nbformat_minor": 2
}
